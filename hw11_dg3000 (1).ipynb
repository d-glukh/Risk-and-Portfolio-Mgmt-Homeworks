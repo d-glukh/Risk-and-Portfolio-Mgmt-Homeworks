{
 "cells": [
  {
   "cell_type": "markdown",
   "metadata": {},
   "source": [
    "# HW 11, Daniil Glukhovskiy, problem 2"
   ]
  },
  {
   "cell_type": "markdown",
   "metadata": {},
   "source": [
    "## Data retrieval"
   ]
  },
  {
   "cell_type": "code",
   "execution_count": 1,
   "metadata": {},
   "outputs": [
    {
     "name": "stdout",
     "output_type": "stream",
     "text": [
      "From 1971-01-05 to 2019-12-31 ( 12285 observations):\n",
      "\n",
      "Means: [ 1.2022 -0.4963  0.9699] bps/day\n",
      "Skew: [ 0.4007 -0.3845  0.6605]\n",
      "kurtosis [14.2741  7.2467  9.522 ]\n",
      "(CHF, GBP, JPY)\n",
      "\n",
      "   [0.5113 0.2451 0.2175]\n",
      "C= [0.2451 0.3551 0.1144]     (4.20)\n",
      "   [0.2175 0.1144 0.4094]\n",
      "(%/day)² units\n"
     ]
    }
   ],
   "source": [
    "import numpy as np\n",
    "import matplotlib.pyplot as plt\n",
    "import pandas as pd\n",
    "import qrpm_funcs as qf\n",
    "from scipy.stats import skew, kurtosis\n",
    "#Get 3 currencies until the end of\n",
    "#previous year. Form sample covariance matrix\n",
    "#and do simple efficient frontier calculations\n",
    "\n",
    "lastday=qf.LastYearEnd()\n",
    "#Swiss franc, pound sterling, Japanese Yen\n",
    "seriesnames=['DEXSZUS','DEXUSUK','DEXJPUS']\n",
    "cdates,ratematrix=qf.GetFREDMatrix(seriesnames,enddate=lastday)\n",
    "multipliers=[-1,1,-1]\n",
    "\n",
    "lgdates,difflgs=qf.levels_to_log_returns(cdates,ratematrix,multipliers)\n",
    "\n",
    "#compute means, (co)variances, skewness and kurtosis\n",
    "d=np.array(difflgs)\n",
    "m=np.mean(d,axis=0)\n",
    "c=np.cov(d.T)\n",
    "ske = skew(d, axis = 0)\n",
    "kurt = kurtosis(d, axis = 0)\n",
    "\n",
    "#display the output\n",
    "#vectors and matrices are in fractional units;\n",
    "#    fraction*100=percent\n",
    "#    fraction*10000=basis point\n",
    "#    (fraction^2)*10000=percent^2\n",
    "np.set_printoptions(precision=4)\n",
    "print(\"From\",lgdates[0],\"to\",lgdates[-1],\"(\",len(lgdates),\"observations):\")\n",
    "print(\"\\nMeans:\",m*10000,\"bps/day\")\n",
    "print(\"Skew:\",ske)\n",
    "print(\"kurtosis\", kurt)\n",
    "print(\"(CHF, GBP, JPY)\\n\")\n",
    "print(\"  \",c[0]*10000)\n",
    "print(\"C=\",c[1]*10000,\"    (4.20)\")\n",
    "print(\"  \",c[2]*10000)\n",
    "print(f'(%/day)\\N{SUPERSCRIPT TWO} units')"
   ]
  },
  {
   "cell_type": "markdown",
   "metadata": {},
   "source": [
    "## Empirical kurtosis of portfolio"
   ]
  },
  {
   "cell_type": "code",
   "execution_count": 29,
   "metadata": {},
   "outputs": [
    {
     "name": "stdout",
     "output_type": "stream",
     "text": [
      "Empirical kurtosis of equally weighted portfolio: 4.742059984195001\n"
     ]
    }
   ],
   "source": [
    "#computing the kurtosis of the real returns of equally-distributed portfolio\n",
    "w = np.ones((3))/3\n",
    "real_returns = np.exp(d) - 1\n",
    "ptf_returns = np.dot(real_returns, w)\n",
    "print('Empirical kurtosis of equally weighted portfolio:', kurtosis(ptf_returns))"
   ]
  },
  {
   "cell_type": "markdown",
   "metadata": {},
   "source": [
    "## Fitting empirical kurtosis of each currency to mixture of normals"
   ]
  },
  {
   "cell_type": "code",
   "execution_count": 11,
   "metadata": {},
   "outputs": [
    {
     "name": "stdout",
     "output_type": "stream",
     "text": [
      "( CHF  ,  GBP  , JPY )\n",
      "[0.7068 0.8021 0.7689]  - low part of standard deviation\n",
      "[3.2416 2.7883 2.9607]  - high part of standard deviation\n"
     ]
    }
   ],
   "source": [
    "#plugging in kurtosis of each currency's log returns into the formula (*) from pdf file.\n",
    "#take the negative sign for solution to exist. \n",
    "sigma_low = np.sqrt((38 - np.sqrt(38**2 - 4*19*(20 - kurt/3 - 1)))/38)\n",
    "sigma_high = np.sqrt(20 - 19*sigma_low**2)\n",
    "print(\"( CHF  ,  GBP  , JPY )\")\n",
    "print(sigma_low, ' - low part of standard deviation')\n",
    "print(sigma_high, ' - high part of standard deviation')"
   ]
  },
  {
   "cell_type": "markdown",
   "metadata": {},
   "source": [
    "## Running Monte-Carlo simulation"
   ]
  },
  {
   "cell_type": "code",
   "execution_count": 34,
   "metadata": {},
   "outputs": [
    {
     "name": "stdout",
     "output_type": "stream",
     "text": [
      "(Cholesky decomposition of 3-currency sample covariance matrix:\n",
      " [[0.715  0.     0.    ]\n",
      " [0.3428 0.4874 0.    ]\n",
      " [0.3042 0.0207 0.5626]]\n"
     ]
    }
   ],
   "source": [
    "#Show the Cholesky decomposition\n",
    "#of the CHF-GPB-JPY covariance matrix\n",
    "chol=np.linalg.cholesky(c)\n",
    "print('(Cholesky decomposition of 3-currency sample covariance matrix:\\n',chol*100)"
   ]
  },
  {
   "cell_type": "code",
   "execution_count": 40,
   "metadata": {},
   "outputs": [
    {
     "name": "stdout",
     "output_type": "stream",
     "text": [
      "╒════════════════════╤═══════════════╕\n",
      "│ Statistic          │         Value │\n",
      "╞════════════════════╪═══════════════╡\n",
      "│ Count              │ 12285         │\n",
      "├────────────────────┼───────────────┤\n",
      "│ Min                │    -0.0365036 │\n",
      "├────────────────────┼───────────────┤\n",
      "│ Max                │     0.041665  │\n",
      "├────────────────────┼───────────────┤\n",
      "│ Mean               │     1.22e-05  │\n",
      "├────────────────────┼───────────────┤\n",
      "│ Median             │    -1.77e-05  │\n",
      "├────────────────────┼───────────────┤\n",
      "│ Standard Deviation │     0.0051426 │\n",
      "├────────────────────┼───────────────┤\n",
      "│ Skewness           │     0.169091  │\n",
      "├────────────────────┼───────────────┤\n",
      "│ Excess Kurtosis    │     7.25797   │\n",
      "├────────────────────┼───────────────┤\n",
      "│ Jarque-Bera        │ 27023.2       │\n",
      "├────────────────────┼───────────────┤\n",
      "│ Chi-Squared p      │     0         │\n",
      "├────────────────────┼───────────────┤\n",
      "│ Serial Correlation │     0.0054404 │\n",
      "├────────────────────┼───────────────┤\n",
      "│ 99% VaR            │     0.0133693 │\n",
      "├────────────────────┼───────────────┤\n",
      "│ 99% cVaR           │     0.0199174 │\n",
      "╘════════════════════╧═══════════════╛\n"
     ]
    }
   ],
   "source": [
    "from tabulate import tabulate\n",
    "headers=['Statistic','Value']\n",
    "count = 12285\n",
    "#Generate random draws; use fixed seed to be replicable\n",
    "seed=np.random.seed(12345678)\n",
    "s_trial = np.zeros((count, 3), )\n",
    "\n",
    "for trial in range(count):\n",
    "    s_trial_1 = np.array([0.0, 0.0, 0.0], dtype='f8')\n",
    "#Independently sample from mixtures of normals\n",
    "    for i in range(3):\n",
    "        p = np.random.uniform()\n",
    "        if p < 0.95:\n",
    "            s_trial_1[i]=np.random.normal(0, sigma_low[i])\n",
    "        else:\n",
    "            s_trial_1[i]=np.random.normal(0, sigma_high[i])\n",
    "    s_trial[trial,:] = s_trial_1\n",
    "\n",
    "logr_trial = np.matmul(chol, s_trial.T).T\n",
    "#logr_trial has Monte Carlo log-returns; transform to returns\n",
    "r_trial = np.expm1(logr_trial)\n",
    "#Get trial portfolio returns\n",
    "r_ptrial=np.matmul(r_trial, w)\n",
    "\n",
    "statnames,mettrial,tabtrial=qf.StatsTable(r_ptrial)\n",
    "print(tabulate(tabtrial, headers, tablefmt='fancy_grid'))"
   ]
  },
  {
   "cell_type": "markdown",
   "metadata": {},
   "source": [
    "Empirical kurtosis of portfolio returns is lower then the simulated kurtosis."
   ]
  }
 ],
 "metadata": {
  "kernelspec": {
   "display_name": "Python 3",
   "language": "python",
   "name": "python3"
  },
  "language_info": {
   "codemirror_mode": {
    "name": "ipython",
    "version": 3
   },
   "file_extension": ".py",
   "mimetype": "text/x-python",
   "name": "python",
   "nbconvert_exporter": "python",
   "pygments_lexer": "ipython3",
   "version": "3.7.3"
  }
 },
 "nbformat": 4,
 "nbformat_minor": 2
}
