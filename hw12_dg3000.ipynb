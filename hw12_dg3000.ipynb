{
 "cells": [
  {
   "cell_type": "markdown",
   "metadata": {},
   "source": [
    "# HW 12, Daniil Glukhovskiy"
   ]
  },
  {
   "cell_type": "markdown",
   "metadata": {},
   "source": [
    "## Problem 2"
   ]
  },
  {
   "cell_type": "code",
   "execution_count": 1,
   "metadata": {
    "scrolled": true
   },
   "outputs": [
    {
     "name": "stdout",
     "output_type": "stream",
     "text": [
      "From 2015-01-02 to 2018-12-31 ( 1000 observations):\n",
      "\n",
      "Means: [-1.9931] bps/day\n",
      "Sample Variance: 4.010681260827864e-05\n"
     ]
    }
   ],
   "source": [
    "import numpy as np\n",
    "import matplotlib.pyplot as plt\n",
    "import pandas as pd\n",
    "import qrpm_funcs as qf\n",
    "#import training set\n",
    "#pound sterling\n",
    "seriesnames=['DEXUSUK']\n",
    "cdates,ratematrix=qf.GetFREDMatrix(seriesnames,startdate = '2014-12-31', enddate='2018-12-31')\n",
    "\n",
    "lgdates,difflgs=qf.levels_to_log_returns(cdates,ratematrix, [1])\n",
    "\n",
    "#compute mean, variance\n",
    "d=np.array(difflgs)\n",
    "m=np.mean(d,axis=0)\n",
    "var_0 = np.var(d)\n",
    "\n",
    "#display the output\n",
    "#vectors and matrices are in fractional units;\n",
    "#    fraction*100=percent\n",
    "#    fraction*10000=basis point\n",
    "#    (fraction^2)*10000=percent^2\n",
    "np.set_printoptions(precision=4)\n",
    "print(\"From\",lgdates[0],\"to\",lgdates[-1],\"(\",len(lgdates),\"observations):\")\n",
    "print(\"\\nMeans:\",m*10000,\"bps/day\")\n",
    "print(\"Sample Variance:\", var_0)"
   ]
  },
  {
   "cell_type": "code",
   "execution_count": 2,
   "metadata": {},
   "outputs": [],
   "source": [
    "#Fit GARCH(1,1)\n",
    "[a,b,c] = qf.Garch11Fit([0.4,0.1,3.0], difflgs)"
   ]
  },
  {
   "cell_type": "code",
   "execution_count": 3,
   "metadata": {},
   "outputs": [
    {
     "name": "stdout",
     "output_type": "stream",
     "text": [
      "GARCH(1,1) model parameters (a,b,c) = [0.10722216415743795, 0.834996132072086, 2.397142232522668e-06]\n"
     ]
    }
   ],
   "source": [
    "print(\"GARCH(1,1) model parameters (a,b,c) =\", [a, b, c])"
   ]
  },
  {
   "cell_type": "code",
   "execution_count": 4,
   "metadata": {},
   "outputs": [
    {
     "name": "stdout",
     "output_type": "stream",
     "text": [
      "From 2019-01-02 to 2019-12-31 ( 249 observations):\n",
      "\n",
      "Means: [-1.9931] bps/day\n"
     ]
    }
   ],
   "source": [
    "#import data for simulation\n",
    "seriesnames=['DEXUSUK']\n",
    "cdates_val,ratematrix_val=qf.GetFREDMatrix(seriesnames,startdate = '2018-12-31', enddate='2019-12-31')\n",
    "\n",
    "lgdates_val,difflgs_val=qf.levels_to_log_returns(cdates_val,ratematrix_val, [1])\n",
    "\n",
    "#compute mean\n",
    "d_val=np.array(difflgs_val)\n",
    "m_val=np.mean(d_val,axis=0)\n",
    "\n",
    "##get rid of 2d-array, i know that's bad code\n",
    "for i in range(249):\n",
    "    difflgs_val[i] = difflgs_val[i][0]\n",
    "\n",
    "#display the output\n",
    "\n",
    "np.set_printoptions(precision=4)\n",
    "print(\"From\",lgdates_val[0],\"to\",lgdates_val[-1],\"(\",len(lgdates_val),\"observations):\")\n",
    "print(\"\\nMeans:\",m*10000,\"bps/day\")\n"
   ]
  },
  {
   "cell_type": "code",
   "execution_count": 5,
   "metadata": {},
   "outputs": [],
   "source": [
    "#form variances using (8.57)\n",
    "var = np.zeros(249)\n",
    "var[0] = var_0\n",
    "for i in range(1, len(var)):\n",
    "    var[i] = c + b*(var[i-1]) + a*(difflgs_val[i-1])**2\n",
    "std = np.sqrt(var)"
   ]
  },
  {
   "cell_type": "code",
   "execution_count": 6,
   "metadata": {},
   "outputs": [
    {
     "name": "stdout",
     "output_type": "stream",
     "text": [
      "Variance of series y/sigma from GARCH(1,1) model: 0.8665483950770695\n",
      "Excess kurtosis of series y/sigma from GARCH(1,1) model: 1.0629686677677173\n"
     ]
    }
   ],
   "source": [
    "#compute statistics of GARCH(1,1) simulation\n",
    "from scipy.stats import skew, kurtosis\n",
    "y_over_sigma= difflgs_val * 1/std\n",
    "print(\"Variance of series y/sigma from GARCH(1,1) model:\", np.var(y_over_sigma))\n",
    "print(\"Excess kurtosis of series y/sigma from GARCH(1,1) model:\", kurtosis(y_over_sigma))\n"
   ]
  },
  {
   "cell_type": "markdown",
   "metadata": {},
   "source": [
    "Variance is 0.87, close enough to 1. Kurtosis is 1.06, could be better."
   ]
  },
  {
   "cell_type": "markdown",
   "metadata": {},
   "source": [
    "## Problem 4"
   ]
  },
  {
   "cell_type": "code",
   "execution_count": 7,
   "metadata": {},
   "outputs": [],
   "source": [
    "#parameters\n",
    "alpha = 0.1\n",
    "k = 1.2\n",
    "theta = 0.16\n",
    "rho = 0\n",
    "dt = 1/252\n",
    "T = 252\n",
    "max_phi = (2*k*theta)**0.5"
   ]
  },
  {
   "cell_type": "code",
   "execution_count": 8,
   "metadata": {},
   "outputs": [],
   "source": [
    "#one simulation for fixed volvol \n",
    "def sim(phi):\n",
    "    v = np.zeros(T)\n",
    "    v[0] = theta\n",
    "    log_x = np.zeros(T)\n",
    "    for i in range(1, T):\n",
    "        dz = np.random.normal(0, dt**0.5)\n",
    "        dbeta = np.random.normal(0, dt**0.5)\n",
    "        if v[i-1] < 0:\n",
    "            v[i] = k*(theta - v[i-1])*dt\n",
    "        else:\n",
    "            v[i] = k*(theta - v[i-1])*dt + dz*phi*(v[i-1])**0.5\n",
    "        if v[i] < 0:\n",
    "            log_x[i] = (alpha - v[i]/2)*dt\n",
    "        else:\n",
    "            log_x[i] = (alpha - v[i]/2)*dt + dbeta*(v[i])**0.5\n",
    "    return(kurtosis(log_x))"
   ]
  },
  {
   "cell_type": "code",
   "execution_count": 9,
   "metadata": {},
   "outputs": [],
   "source": [
    "#median kurtosis after 1000 simulations with each volvol\n",
    "median_kurt = []\n",
    "for volvol in np.arange(0, max_phi, 0.1):\n",
    "    kurt_sim = np.zeros(1000)\n",
    "    for i in range(1000):\n",
    "        kurt_sim[i] = sim(volvol)\n",
    "    median_kurt.append(np.median(kurt_sim))"
   ]
  },
  {
   "cell_type": "code",
   "execution_count": 10,
   "metadata": {},
   "outputs": [
    {
     "name": "stdout",
     "output_type": "stream",
     "text": [
      "phi =  0.0 median excess kurtosis =  -0.02969227856914447\n",
      "phi =  0.1 median excess kurtosis =  0.09808285364557112\n",
      "phi =  0.2 median excess kurtosis =  0.4908454068353474\n",
      "phi =  0.3 median excess kurtosis =  1.0312975629261216\n",
      "phi =  0.4 median excess kurtosis =  1.5235582578213172\n",
      "phi =  0.5 median excess kurtosis =  1.8999760504730983\n",
      "phi =  0.6 median excess kurtosis =  2.3273912914332344\n"
     ]
    }
   ],
   "source": [
    "for i in range(7):\n",
    "    print('phi = ', i/10, \"median excess kurtosis = \", median_kurt[i])"
   ]
  },
  {
   "cell_type": "markdown",
   "metadata": {},
   "source": [
    "As volvol increases, kurtosis of log-returns increases, as expected. "
   ]
  },
  {
   "cell_type": "code",
   "execution_count": null,
   "metadata": {},
   "outputs": [],
   "source": []
  }
 ],
 "metadata": {
  "kernelspec": {
   "display_name": "Python 3",
   "language": "python",
   "name": "python3"
  },
  "language_info": {
   "codemirror_mode": {
    "name": "ipython",
    "version": 3
   },
   "file_extension": ".py",
   "mimetype": "text/x-python",
   "name": "python",
   "nbconvert_exporter": "python",
   "pygments_lexer": "ipython3",
   "version": "3.7.3"
  }
 },
 "nbformat": 4,
 "nbformat_minor": 2
}
