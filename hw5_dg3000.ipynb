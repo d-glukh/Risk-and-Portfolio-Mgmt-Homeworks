{
 "cells": [
  {
   "cell_type": "markdown",
   "metadata": {},
   "source": [
    "# Homework 5, Daniil Glukhovskiy"
   ]
  },
  {
   "cell_type": "markdown",
   "metadata": {},
   "source": [
    "## Problem 3"
   ]
  },
  {
   "cell_type": "markdown",
   "metadata": {},
   "source": [
    "### Getting/processing data (adapted from textbook)"
   ]
  },
  {
   "cell_type": "code",
   "execution_count": 20,
   "metadata": {},
   "outputs": [
    {
     "name": "stdout",
     "output_type": "stream",
     "text": [
      "From 1971-01-05 to 2019-12-31 ( 12285 observations):\n",
      "\n",
      "Means: [ 1.2022 -0.4963  0.9699] bps/day\n",
      "(CHF, GBP, JPY)\n",
      "\n",
      "   [0.5113 0.2451 0.2175]\n",
      "C= [0.2451 0.3551 0.1144]     (4.20)\n",
      "   [0.2175 0.1144 0.4094]\n",
      "(%/day)² units\n"
     ]
    }
   ],
   "source": [
    "import numpy as np\n",
    "import matplotlib.pyplot as plt\n",
    "%matplotlib inline \n",
    "import pandas as pd\n",
    "import qrpm_funcs as qf\n",
    "#Get 3 currencies until the end of\n",
    "#2018 year. Form sample covariance matrix\n",
    "#and do simple efficient frontier calculations\n",
    "\n",
    "lastday=qf.LastYearEnd()\n",
    "#Swiss franc, pound sterling, Japanese Yen\n",
    "seriesnames=['DEXSZUS','DEXUSUK','DEXJPUS']\n",
    "cdates,ratematrix=qf.GetFREDMatrix(seriesnames,enddate=lastday)\n",
    "multipliers=[-1,1,-1]\n",
    "\n",
    "lgdates,difflgs=qf.levels_to_log_returns(cdates,ratematrix,multipliers)\n",
    "\n",
    "#Mean vector and covariance matrix are inputs to efficient frontier calculations\n",
    "d=np.array(difflgs)\n",
    "m=np.mean(d,axis=0)\n",
    "c=np.cov(d.T)\n",
    "\n",
    "#display the output\n",
    "#vectors and matrices are in fractional units;\n",
    "#    fraction*100=percent\n",
    "#    fraction*10000=basis point\n",
    "#    (fraction^2)*10000=percent^2\n",
    "np.set_printoptions(precision=4)\n",
    "print(\"From\",lgdates[0],\"to\",lgdates[-1],\"(\",len(lgdates),\"observations):\")\n",
    "print(\"\\nMeans:\",m*10000,\"bps/day\")\n",
    "print(\"(CHF, GBP, JPY)\\n\")\n",
    "print(\"  \",c[0]*10000)\n",
    "print(\"C=\",c[1]*10000,\"    (4.20)\")\n",
    "print(\"  \",c[2]*10000)\n",
    "print(f'(%/day)\\N{SUPERSCRIPT TWO} units')"
   ]
  },
  {
   "cell_type": "code",
   "execution_count": 21,
   "metadata": {},
   "outputs": [
    {
     "name": "stdout",
     "output_type": "stream",
     "text": [
      "           [ 3.4417 -1.9638 -1.2796]\n",
      "C-inverse= [-1.9638  4.2154 -0.1344]     (4.21)\n",
      "           [-1.2796 -0.1344  3.1596]\n",
      "(days/%)² units\n",
      "u'(C-inverse)u = 4.061025866844458 (days/%)²\n",
      "u'(C-inverse)m = 0.8804682829059165 days\n"
     ]
    }
   ],
   "source": [
    "#invert the c matrix, which is in (fraction/day)^2 units\n",
    "#so ci (c-inverse) is in (days/fraction)^2 units\n",
    "ci=np.linalg.inv(c)\n",
    "print(\"          \",ci[0]/10000)\n",
    "print(f'C-inverse=',ci[1]/10000,\"    (4.21)\")\n",
    "print(\"          \",ci[2]/10000)\n",
    "print(f'(days/%)\\N{SUPERSCRIPT TWO} units')\n",
    "#sum entries in ci\n",
    "#compute quantities in order to use formula 4.30\n",
    "uciu=np.sum(ci)\n",
    "print(f'u\\'(C-inverse)u =',uciu/10000,\n",
    "      f'(days/%)\\N{SUPERSCRIPT TWO}')\n",
    "\n",
    "ucim=np.sum(np.matmul(ci,m))\n",
    "print(f'u\\'(C-inverse)m =',ucim,\n",
    "      'days')"
   ]
  },
  {
   "cell_type": "markdown",
   "metadata": {},
   "source": [
    "### Run simulations for every month"
   ]
  },
  {
   "cell_type": "code",
   "execution_count": 22,
   "metadata": {},
   "outputs": [
    {
     "name": "stdout",
     "output_type": "stream",
     "text": [
      "Tangency portfolio: [  8.119  -10.1086   2.9896]\n"
     ]
    }
   ],
   "source": [
    "#recompute tangency portfolio for the check. \n",
    "#expect to get w_tp = [8.119, (-1)*10.1086, 2.9896]\n",
    "rfrate=10**(-5)\n",
    "rfvec=[rfrate]*3\n",
    "w_tp=np.matmul(ci,m-rfvec)/(ucim-rfrate*uciu)\n",
    "print('Tangency portfolio:',w_tp)"
   ]
  },
  {
   "cell_type": "code",
   "execution_count": 23,
   "metadata": {},
   "outputs": [
    {
     "data": {
      "text/plain": [
       "588"
      ]
     },
     "execution_count": 23,
     "metadata": {},
     "output_type": "execute_result"
    }
   ],
   "source": [
    "#break data into months\n",
    "#month_start = list of indices of entries corresponding to first date of each month\n",
    "from datetime import date\n",
    "lgdates_new = [date.fromisoformat(i) for i in lgdates]\n",
    "month_start = [0]\n",
    "for i in range(len(lgdates_new)-1):\n",
    "    if lgdates_new[i].month != lgdates_new[i+1].month:\n",
    "        month_start.append(i+1)\n",
    "len(month_start)"
   ]
  },
  {
   "cell_type": "code",
   "execution_count": 24,
   "metadata": {},
   "outputs": [],
   "source": [
    "# adjust rates so all are in units currency/dollar\n",
    "\n",
    "adj_ratematrix = [[x[0], 1/x[1], x[2]] for x in ratematrix]"
   ]
  },
  {
   "cell_type": "code",
   "execution_count": 25,
   "metadata": {},
   "outputs": [],
   "source": [
    "#run simulation for every month\n",
    "profit = []\n",
    "bankrupcies = 0\n",
    "for i in range(len(month_start)):\n",
    "    start = month_start[i]\n",
    "    while np.isnan(adj_ratematrix[start]).any():\n",
    "        start += 1\n",
    "    if i == len(month_start) - 1:\n",
    "        end = len(lgdates)\n",
    "    else:\n",
    "        end = month_start[i+1]\n",
    "    portfolio = np.multiply(w_tp, adj_ratematrix[start])\n",
    "    for j in range(start, end):\n",
    "        if not np.isnan([1/x for x in adj_ratematrix[j]]).any():\n",
    "            portfolio_value = np.dot(portfolio, np.array([1/x for x in adj_ratematrix[j]]))\n",
    "            if portfolio_value <= 0:\n",
    "                bankrupcies += 1\n",
    "                break\n",
    "    profit.append(portfolio_value - 1)"
   ]
  },
  {
   "cell_type": "code",
   "execution_count": 26,
   "metadata": {},
   "outputs": [
    {
     "name": "stdout",
     "output_type": "stream",
     "text": [
      "We went bankrupt 0 dtimes\n",
      "Worst month: 2010-08-02 to 2010-08-31\n",
      "At this month our loss was 85.2 %.\n"
     ]
    }
   ],
   "source": [
    "print('We went bankrupt %.1d dtimes'% bankrupcies)\n",
    "print('Worst month:', lgdates[month_start[profit.index(min(profit))]],'to', lgdates[-1 + month_start[1 + profit.index(min(profit))]])\n",
    "print('At this month our loss was %.1f %%.' % (-min(profit)*100))"
   ]
  },
  {
   "cell_type": "markdown",
   "metadata": {},
   "source": [
    "## Problem 4"
   ]
  },
  {
   "cell_type": "markdown",
   "metadata": {},
   "source": [
    "### Data import and processing (adapted from textbook)"
   ]
  },
  {
   "cell_type": "code",
   "execution_count": 27,
   "metadata": {},
   "outputs": [
    {
     "name": "stdout",
     "output_type": "stream",
     "text": [
      "From 1971-01-05 to 2018-12-31 ( 12036 observations):\n",
      "\n",
      "Means: [ 1.2138 -0.5389  0.9821] bps/day\n",
      "(CHF, GBP, JPY)\n",
      "\n",
      "   [0.5194 0.2494 0.2207]\n",
      "C= [0.2494 0.3568 0.1166]     (4.20)\n",
      "   [0.2207 0.1166 0.4155]\n",
      "(%/day)² units\n"
     ]
    }
   ],
   "source": [
    "#Get 3 currencies until the end of\n",
    "#2018 year. Form sample covariance matrix\n",
    "#and do simple efficient frontier calculations\n",
    "\n",
    "lastday='2018-12-31'\n",
    "#Swiss franc, pound sterling, Japanese Yen\n",
    "seriesnames=['DEXSZUS','DEXUSUK','DEXJPUS']\n",
    "cdates,ratematrix=qf.GetFREDMatrix(seriesnames,enddate=lastday)\n",
    "multipliers=[-1,1,-1]\n",
    "\n",
    "lgdates,difflgs=qf.levels_to_log_returns(cdates,ratematrix,multipliers)\n",
    "\n",
    "#Mean vector and covariance matrix are inputs to efficient frontier calculations\n",
    "d=np.array(difflgs)\n",
    "m=np.mean(d,axis=0)\n",
    "c=np.cov(d.T)\n",
    "\n",
    "#display the output\n",
    "#vectors and matrices are in fractional units;\n",
    "#    fraction*100=percent\n",
    "#    fraction*10000=basis point\n",
    "#    (fraction^2)*10000=percent^2\n",
    "np.set_printoptions(precision=4)\n",
    "print(\"From\",lgdates[0],\"to\",lgdates[-1],\"(\",len(lgdates),\"observations):\")\n",
    "print(\"\\nMeans:\",m*10000,\"bps/day\")\n",
    "print(\"(CHF, GBP, JPY)\\n\")\n",
    "print(\"  \",c[0]*10000)\n",
    "print(\"C=\",c[1]*10000,\"    (4.20)\")\n",
    "print(\"  \",c[2]*10000)\n",
    "print(f'(%/day)\\N{SUPERSCRIPT TWO} units')"
   ]
  },
  {
   "cell_type": "code",
   "execution_count": 28,
   "metadata": {
    "scrolled": true
   },
   "outputs": [
    {
     "name": "stdout",
     "output_type": "stream",
     "text": [
      "           [ 3.4048 -1.9702 -1.2556]\n",
      "C-inverse= [-1.9702  4.226  -0.1393]     (4.21)\n",
      "           [-1.2556 -0.1393  3.113 ]\n",
      "(days/%)² units\n"
     ]
    }
   ],
   "source": [
    "#invert the c matrix, which is in (fraction/day)^2 units\n",
    "#so ci (c-inverse) is in (days/fraction)^2 units\n",
    "ci=np.linalg.inv(c)\n",
    "print(\"          \",ci[0]/10000)\n",
    "print(f'C-inverse=',ci[1]/10000,\"    (4.21)\")\n",
    "print(\"          \",ci[2]/10000)\n",
    "print(f'(days/%)\\N{SUPERSCRIPT TWO} units')"
   ]
  },
  {
   "cell_type": "code",
   "execution_count": 29,
   "metadata": {},
   "outputs": [
    {
     "name": "stdout",
     "output_type": "stream",
     "text": [
      "u'(C-inverse)u = 4.013520703645339 (days/%)²\n",
      "u'(C-inverse)m = 0.7639500543759743 days\n",
      "m'(C-inverse)m = 8.977995216452298 bps\n"
     ]
    }
   ],
   "source": [
    "#sum entries in ci\n",
    "#compute quantities in order to use formulae 4.15, 4.18, 4.19\n",
    "uciu=np.sum(ci)\n",
    "print(f'u\\'(C-inverse)u =',uciu/10000,\n",
    "      f'(days/%)\\N{SUPERSCRIPT TWO}')\n",
    "\n",
    "ucim=np.sum(np.matmul(ci,m))\n",
    "print(f'u\\'(C-inverse)m =',ucim,\n",
    "      'days')\n",
    "mcim=np.matmul(m,np.matmul(ci,m))\n",
    "print(f'm\\'(C-inverse)m =',mcim*10000,\n",
    "      'bps')"
   ]
  },
  {
   "cell_type": "code",
   "execution_count": 30,
   "metadata": {},
   "outputs": [
    {
     "name": "stdout",
     "output_type": "stream",
     "text": [
      "w'=lambda [ 3.9275 -5.2086  1.2812] + [0.0446 0.5273 0.4281]     (4.15)#\n",
      "mu=(lambda * 8.832581817923925 )+ 0.19034411699486328  bps/day    (4.18)#\n",
      "sigma=sqrt(lambda² * 8.832581817923925 + 0.24915780279686497 ) (%/day)   (4.19)#\n"
     ]
    }
   ],
   "source": [
    "#Vectors for equation 4.15\n",
    "u=[1]*3\n",
    "vec2=np.matmul(ci,u)/uciu\n",
    "vec1=np.subtract(np.matmul(ci,m),vec2*ucim)\n",
    "print(f\"w'=lambda\",vec1,\"+\",vec2,\"    (4.15)#\")\n",
    "\n",
    "lambdacoeff=(uciu*mcim-ucim*ucim)/uciu\n",
    "constmu=ucim/uciu\n",
    "print(f'mu=(lambda *',lambdacoeff*10000,\")+\",constmu*10000,\" bps/day    (4.18)#\")\n",
    "\n",
    "print(f'sigma=sqrt(lambda\\N{SUPERSCRIPT TWO} *',lambdacoeff*10000,'+', \\\n",
    "      10000/uciu,') (%/day)   (4.19)#')"
   ]
  },
  {
   "cell_type": "markdown",
   "metadata": {},
   "source": [
    "### Efficient frontier for 1971 - 2018 data"
   ]
  },
  {
   "cell_type": "code",
   "execution_count": 31,
   "metadata": {},
   "outputs": [
    {
     "data": {
      "image/png": "[encoded data removed]",
      "text/plain": [
       "<Figure size 432x288 with 1 Axes>"
      ]
     },
     "metadata": {
      "needs_background": "light"
     },
     "output_type": "display_data"
    }
   ],
   "source": [
    "#Draw graph of simple efficient frontier\n",
    "lambda1s=np.arange(0,1.01,.01)\n",
    "xrisk=100*np.sqrt(lambdacoeff*lambda1s**2+1/uciu)   #Multiply * 100 for percent/day units\n",
    "yreturn=10000*(lambdacoeff*lambda1s+constmu)        #Multiply * 10000 for bp units\n",
    "\n",
    "plt.figure(1)\n",
    "plt.plot(xrisk,yreturn,marker='2')\n",
    "plt.title(\"Figure 4.2: Franc, Pound, Yen Efficient Frontier\")\n",
    "plt.xlabel(\"Standard Deviation (pct/day)\")\n",
    "plt.ylabel(\"Return (bps/day)\")\n",
    "plt.xlim(0,max(xrisk)+.5)\n",
    "plt.grid()\n",
    "plt.show();"
   ]
  },
  {
   "cell_type": "markdown",
   "metadata": {},
   "source": [
    "### Efficient portfolios for small values of lambda"
   ]
  },
  {
   "cell_type": "code",
   "execution_count": 32,
   "metadata": {},
   "outputs": [
    {
     "name": "stdout",
     "output_type": "stream",
     "text": [
      "portfolio = [0.0446 0.5273 0.4281] ,lambda = 0.00, sigma = 0.4992 (%/day)\n",
      "portfolio = [0.0839 0.4752 0.4409] ,lambda = 0.01, sigma = 0.5000 (%/day)\n",
      "portfolio = [0.1231 0.4232 0.4537] ,lambda = 0.02, sigma = 0.5027 (%/day)\n",
      "portfolio = [0.1624 0.3711 0.4665] ,lambda = 0.03, sigma = 0.5071 (%/day)\n",
      "portfolio = [0.2017 0.319  0.4793] ,lambda = 0.04, sigma = 0.5131 (%/day)\n",
      "portfolio = [0.241  0.2669 0.4921] ,lambda = 0.05, sigma = 0.5208 (%/day)\n",
      "portfolio = [0.2802 0.2148 0.5049] ,lambda = 0.06, sigma = 0.5301 (%/day)\n",
      "portfolio = [0.3195 0.1627 0.5178] ,lambda = 0.07, sigma = 0.5408 (%/day)\n",
      "portfolio = [0.3588 0.1106 0.5306] ,lambda = 0.08, sigma = 0.5529 (%/day)\n",
      "portfolio = [0.3981 0.0586 0.5434] ,lambda = 0.09, sigma = 0.5663 (%/day)\n",
      "portfolio = [0.4373 0.0065 0.5562] ,lambda = 0.10, sigma = 0.5809 (%/day)\n"
     ]
    }
   ],
   "source": [
    "#compute efficient portfolios with lambda1 = 0,0.01,0.02,...,0.1\n",
    "lambda1s = np.arange(0,0.11,0.01)\n",
    "eff_ports = [(i, i*vec1 + vec2) for i in lambda1s]\n",
    "for i in range(11):\n",
    "    print('portfolio =', eff_ports[i][1], ',lambda = %.2f, sigma = %.4f (%%/day)'%\n",
    "          (lambda1s[i],np.sqrt(lambda1s[i]**2*lambdacoeff*10000 + 10000/uciu)))"
   ]
  },
  {
   "cell_type": "markdown",
   "metadata": {},
   "source": [
    "### Retrieving and processing the same data for 2019"
   ]
  },
  {
   "cell_type": "code",
   "execution_count": 33,
   "metadata": {},
   "outputs": [
    {
     "name": "stdout",
     "output_type": "stream",
     "text": [
      "From 2019-01-03 to 2019-12-31 ( 248 observations):\n",
      "\n",
      "Means: [ 1.2138 -0.5389  0.9821] bps/day\n",
      "(CHF, GBP, JPY)\n",
      "\n",
      "   [0.5194 0.2494 0.2207]\n",
      "C= [0.2494 0.3568 0.1166]     (4.20)\n",
      "   [0.2207 0.1166 0.4155]\n",
      "(%/day)² units\n"
     ]
    }
   ],
   "source": [
    "#Same data for 2019\n",
    "lastday=qf.LastYearEnd()\n",
    "startday = '2019-01-01'\n",
    "#Swiss franc, pound sterling, Japanese Yen\n",
    "seriesnames=['DEXSZUS','DEXUSUK','DEXJPUS']\n",
    "cdates,ratematrix=qf.GetFREDMatrix(seriesnames,startdate=startday, enddate=lastday)\n",
    "multipliers=[-1,1,-1]\n",
    "\n",
    "lgdates,difflgs=qf.levels_to_log_returns(cdates,ratematrix,multipliers)\n",
    "\n",
    "#Mean vector and covariance matrix are inputs to efficient frontier calculations\n",
    "d_2019=np.array(difflgs)\n",
    "m_2019=np.mean(d_2019,axis=0)\n",
    "c_2019=np.cov(d_2019.T)\n",
    "\n",
    "#display the output\n",
    "#vectors and matrices are in fractional units;\n",
    "#    fraction*100=percent\n",
    "#    fraction*10000=basis point\n",
    "#    (fraction^2)*10000=percent^2\n",
    "np.set_printoptions(precision=4)\n",
    "print(\"From\",lgdates[0],\"to\",lgdates[-1],\"(\",len(lgdates),\"observations):\")\n",
    "print(\"\\nMeans:\",m*10000,\"bps/day\")\n",
    "print(\"(CHF, GBP, JPY)\\n\")\n",
    "print(\"  \",c[0]*10000)\n",
    "print(\"C=\",c[1]*10000,\"    (4.20)\")\n",
    "print(\"  \",c[2]*10000)\n",
    "print(f'(%/day)\\N{SUPERSCRIPT TWO} units')"
   ]
  },
  {
   "cell_type": "code",
   "execution_count": 34,
   "metadata": {},
   "outputs": [
    {
     "name": "stdout",
     "output_type": "stream",
     "text": [
      "           [12.6715 -1.3576 -6.8637]\n",
      "C-inverse= [-1.3576  3.8911  0.3953]     (4.21)\n",
      "           [-6.8637  0.3953 12.1467]\n",
      "(days/%)² units\n"
     ]
    }
   ],
   "source": [
    "#invert the 2019 c matrix, which is in (fraction/day)^2 units\n",
    "#so ci (c-inverse) is in (days/fraction)^2 units\n",
    "ci_2019=np.linalg.inv(c_2019)\n",
    "print(\"          \",ci_2019[0]/10000)\n",
    "print(f'C-inverse=',ci_2019[1]/10000,\"    (4.21)\")\n",
    "print(\"          \",ci_2019[2]/10000)\n",
    "print(f'(days/%)\\N{SUPERSCRIPT TWO} units')"
   ]
  },
  {
   "cell_type": "markdown",
   "metadata": {},
   "source": [
    "### Computing variances of portfolios on 2019 data"
   ]
  },
  {
   "cell_type": "code",
   "execution_count": 35,
   "metadata": {},
   "outputs": [
    {
     "name": "stdout",
     "output_type": "stream",
     "text": [
      "lambda=0.00, variance_old=0.2492 (%/day)², variance_2019=0.1056 (%/day)²\n",
      "lambda=0.01, variance_old=0.2500 (%/day)², variance_2019=0.0966 (%/day)²\n",
      "lambda=0.02, variance_old=0.2527 (%/day)², variance_2019=0.0894 (%/day)²\n",
      "lambda=0.03, variance_old=0.2571 (%/day)², variance_2019=0.0838 (%/day)²\n",
      "lambda=0.04, variance_old=0.2633 (%/day)², variance_2019=0.0799 (%/day)²\n",
      "lambda=0.05, variance_old=0.2712 (%/day)², variance_2019=0.0776 (%/day)²\n",
      "lambda=0.06, variance_old=0.2810 (%/day)², variance_2019=0.0771 (%/day)²\n",
      "lambda=0.07, variance_old=0.2924 (%/day)², variance_2019=0.0782 (%/day)²\n",
      "lambda=0.08, variance_old=0.3057 (%/day)², variance_2019=0.0810 (%/day)²\n",
      "lambda=0.09, variance_old=0.3207 (%/day)², variance_2019=0.0855 (%/day)²\n",
      "lambda=0.10, variance_old=0.3375 (%/day)², variance_2019=0.0917 (%/day)²\n"
     ]
    }
   ],
   "source": [
    "#variance_old - variance of efficient portfolios based on 1971-2018 data.\n",
    "#variance_2019 - variance of efficient portfolios based on 2019 data.\n",
    "\n",
    "for w in eff_ports:\n",
    "    print(f'lambda=%.2f, variance_old=%.4f (%%/day)\\N{SUPERSCRIPT TWO}, variance_2019=%.4f (%%/day)\\N{SUPERSCRIPT TWO}'\n",
    "          % (w[0], 10000*np.matmul(w[1],np.matmul(c,w[1])), 10000*np.matmul(w[1],np.matmul(c_2019,w[1]))))"
   ]
  },
  {
   "cell_type": "markdown",
   "metadata": {},
   "source": [
    "Variances in 2019 are approximately 2-4 times smaller then those computed from older data. This could mean that the market in 2019 was more stable (i.e. because previous period includes large financial falls and rises)."
   ]
  },
  {
   "cell_type": "code",
   "execution_count": null,
   "metadata": {},
   "outputs": [],
   "source": []
  }
 ],
 "metadata": {
  "kernelspec": {
   "display_name": "Python 3",
   "language": "python",
   "name": "python3"
  },
  "language_info": {
   "codemirror_mode": {
    "name": "ipython",
    "version": 3
   },
   "file_extension": ".py",
   "mimetype": "text/x-python",
   "name": "python",
   "nbconvert_exporter": "python",
   "pygments_lexer": "ipython3",
   "version": "3.7.3"
  }
 },
 "nbformat": 4,
 "nbformat_minor": 2
}
