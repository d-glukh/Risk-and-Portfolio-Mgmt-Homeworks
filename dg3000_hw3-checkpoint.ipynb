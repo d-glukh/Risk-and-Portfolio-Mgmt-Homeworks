{
 "cells": [
  {
   "cell_type": "code",
   "execution_count": 32,
   "metadata": {},
   "outputs": [],
   "source": [
    "import numpy as np\n",
    "from scipy.special import comb"
   ]
  },
  {
   "cell_type": "code",
   "execution_count": 43,
   "metadata": {},
   "outputs": [],
   "source": [
    "##Function which calculated probability mass function for binomial distribution with parameters n,q.\n",
    "\n",
    "def pmf(n,q):\n",
    "    arr = [comb(n,k)*(q**k)*((1-q)**(n-k)) for k in range(n+1)]\n",
    "    return(arr)"
   ]
  },
  {
   "cell_type": "code",
   "execution_count": 137,
   "metadata": {},
   "outputs": [],
   "source": [
    "def risk_measures(N,Q,P):\n",
    "    PMF = pmf(N,Q) #Calculating probability mass function for binomial distribution.\n",
    "    cdf = np.cumsum(PMF) #Calculating cumulative distribution function for it.\n",
    "    \n",
    "    VaR = np.searchsorted(cdf, 1-P) #Finding VaR from p. Skipping minus sign since VaR is positive.\n",
    "    cVaR = (1/cdf[VaR])*sum([y*PMF[y] for y in range(1, VaR+1)]) #Finding cVaR.\n",
    "    \n",
    "    #For centered binomial distribution pmf is just shifted n*q units to the left; thus VaR and cVaR are also shifted by n*q. \n",
    "    VaR_centered = np.abs(VaR - N*Q) #Shifting and returning minus sign.\n",
    "    cVaR_centered = np.abs(cVaR - N*Q) #Shifting and returning minus sign.\n",
    "    return \"VaR: \" + str(VaR_centered) + ', cVaR:' +  str(cVaR_centered)"
   ]
  },
  {
   "cell_type": "code",
   "execution_count": 142,
   "metadata": {},
   "outputs": [
    {
     "name": "stdout",
     "output_type": "stream",
     "text": [
      "Input N, Q, and P separated by spaces:100 0.1 0.99\n",
      "VaR: 6.0, cVaR:6.4272104048943\n"
     ]
    }
   ],
   "source": [
    "N, Q, P = map(float, input('Input N, Q, and P separated by spaces:').split()) \n",
    "N = int(N)\n",
    "print(risk_measures(N,Q,P))"
   ]
  },
  {
   "cell_type": "code",
   "execution_count": 140,
   "metadata": {},
   "outputs": [
    {
     "data": {
      "text/plain": [
       "'VaR: 12.0, cVaR:13.219031060099312'"
      ]
     },
     "execution_count": 140,
     "metadata": {},
     "output_type": "execute_result"
    }
   ],
   "source": [
    "risk_measures(100, 0.5, 0.99) #VaR(0.99) and cVaR(0.99) for N = 100, q = 0.5"
   ]
  },
  {
   "cell_type": "code",
   "execution_count": null,
   "metadata": {},
   "outputs": [],
   "source": []
  }
 ],
 "metadata": {
  "kernelspec": {
   "display_name": "Python 3",
   "language": "python",
   "name": "python3"
  },
  "language_info": {
   "codemirror_mode": {
    "name": "ipython",
    "version": 3
   },
   "file_extension": ".py",
   "mimetype": "text/x-python",
   "name": "python",
   "nbconvert_exporter": "python",
   "pygments_lexer": "ipython3",
   "version": "3.7.3"
  }
 },
 "nbformat": 4,
 "nbformat_minor": 2
}
